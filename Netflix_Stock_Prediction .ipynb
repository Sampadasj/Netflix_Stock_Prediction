{
 "cells": [
  {
   "cell_type": "markdown",
   "id": "ea55dc27",
   "metadata": {},
   "source": [
    "## Import libraries"
   ]
  },
  {
   "cell_type": "code",
   "execution_count": 180,
   "id": "fa4235b5",
   "metadata": {},
   "outputs": [],
   "source": [
    "import pandas as pd\n",
    "import numpy as np\n",
    "import seaborn as sns\n",
    "import matplotlib.pyplot as plt\n",
    "from datetime import date\n",
    "import statsmodels.api as sm\n",
    "from statsmodels.stats.outliers_influence import variance_inflation_factor\n",
    "from sklearn.model_selection import train_test_split\n",
    "from sklearn.linear_model import LinearRegression\n",
    "from sklearn.metrics import mean_squared_error, mean_absolute_error,r2_score\n",
    "import warnings\n",
    "import warnings \n",
    "warnings.filterwarnings(\"ignore\")\n"
   ]
  },
  {
   "cell_type": "markdown",
   "id": "f8fca135",
   "metadata": {},
   "source": [
    "## Data Gathering"
   ]
  },
  {
   "cell_type": "code",
   "execution_count": 3,
   "id": "d1dd59f9",
   "metadata": {},
   "outputs": [
    {
     "data": {
      "text/html": [
       "<div>\n",
       "<style scoped>\n",
       "    .dataframe tbody tr th:only-of-type {\n",
       "        vertical-align: middle;\n",
       "    }\n",
       "\n",
       "    .dataframe tbody tr th {\n",
       "        vertical-align: top;\n",
       "    }\n",
       "\n",
       "    .dataframe thead th {\n",
       "        text-align: right;\n",
       "    }\n",
       "</style>\n",
       "<table border=\"1\" class=\"dataframe\">\n",
       "  <thead>\n",
       "    <tr style=\"text-align: right;\">\n",
       "      <th></th>\n",
       "      <th>Date</th>\n",
       "      <th>Open</th>\n",
       "      <th>High</th>\n",
       "      <th>Low</th>\n",
       "      <th>Close</th>\n",
       "      <th>Adj Close</th>\n",
       "      <th>Volume</th>\n",
       "    </tr>\n",
       "  </thead>\n",
       "  <tbody>\n",
       "    <tr>\n",
       "      <th>0</th>\n",
       "      <td>05-02-2018</td>\n",
       "      <td>262.000000</td>\n",
       "      <td>267.899994</td>\n",
       "      <td>250.029999</td>\n",
       "      <td>254.259995</td>\n",
       "      <td>254.259995</td>\n",
       "      <td>11896100</td>\n",
       "    </tr>\n",
       "    <tr>\n",
       "      <th>1</th>\n",
       "      <td>06-02-2018</td>\n",
       "      <td>247.699997</td>\n",
       "      <td>266.700012</td>\n",
       "      <td>245.000000</td>\n",
       "      <td>265.720001</td>\n",
       "      <td>265.720001</td>\n",
       "      <td>12595800</td>\n",
       "    </tr>\n",
       "    <tr>\n",
       "      <th>2</th>\n",
       "      <td>07-02-2018</td>\n",
       "      <td>266.579987</td>\n",
       "      <td>272.450012</td>\n",
       "      <td>264.329987</td>\n",
       "      <td>264.559998</td>\n",
       "      <td>264.559998</td>\n",
       "      <td>8981500</td>\n",
       "    </tr>\n",
       "    <tr>\n",
       "      <th>3</th>\n",
       "      <td>08-02-2018</td>\n",
       "      <td>267.079987</td>\n",
       "      <td>267.619995</td>\n",
       "      <td>250.000000</td>\n",
       "      <td>250.100006</td>\n",
       "      <td>250.100006</td>\n",
       "      <td>9306700</td>\n",
       "    </tr>\n",
       "    <tr>\n",
       "      <th>4</th>\n",
       "      <td>09-02-2018</td>\n",
       "      <td>253.850006</td>\n",
       "      <td>255.800003</td>\n",
       "      <td>236.110001</td>\n",
       "      <td>249.470001</td>\n",
       "      <td>249.470001</td>\n",
       "      <td>16906900</td>\n",
       "    </tr>\n",
       "    <tr>\n",
       "      <th>...</th>\n",
       "      <td>...</td>\n",
       "      <td>...</td>\n",
       "      <td>...</td>\n",
       "      <td>...</td>\n",
       "      <td>...</td>\n",
       "      <td>...</td>\n",
       "      <td>...</td>\n",
       "    </tr>\n",
       "    <tr>\n",
       "      <th>1004</th>\n",
       "      <td>31-01-2022</td>\n",
       "      <td>401.970001</td>\n",
       "      <td>427.700012</td>\n",
       "      <td>398.200012</td>\n",
       "      <td>427.140015</td>\n",
       "      <td>427.140015</td>\n",
       "      <td>20047500</td>\n",
       "    </tr>\n",
       "    <tr>\n",
       "      <th>1005</th>\n",
       "      <td>01-02-2022</td>\n",
       "      <td>432.959991</td>\n",
       "      <td>458.480011</td>\n",
       "      <td>425.540009</td>\n",
       "      <td>457.130005</td>\n",
       "      <td>457.130005</td>\n",
       "      <td>22542300</td>\n",
       "    </tr>\n",
       "    <tr>\n",
       "      <th>1006</th>\n",
       "      <td>02-02-2022</td>\n",
       "      <td>448.250000</td>\n",
       "      <td>451.980011</td>\n",
       "      <td>426.480011</td>\n",
       "      <td>429.480011</td>\n",
       "      <td>429.480011</td>\n",
       "      <td>14346000</td>\n",
       "    </tr>\n",
       "    <tr>\n",
       "      <th>1007</th>\n",
       "      <td>03-02-2022</td>\n",
       "      <td>421.440002</td>\n",
       "      <td>429.260010</td>\n",
       "      <td>404.279999</td>\n",
       "      <td>405.600006</td>\n",
       "      <td>405.600006</td>\n",
       "      <td>9905200</td>\n",
       "    </tr>\n",
       "    <tr>\n",
       "      <th>1008</th>\n",
       "      <td>04-02-2022</td>\n",
       "      <td>407.309998</td>\n",
       "      <td>412.769989</td>\n",
       "      <td>396.640015</td>\n",
       "      <td>410.170013</td>\n",
       "      <td>410.170013</td>\n",
       "      <td>7782400</td>\n",
       "    </tr>\n",
       "  </tbody>\n",
       "</table>\n",
       "<p>1009 rows × 7 columns</p>\n",
       "</div>"
      ],
      "text/plain": [
       "            Date        Open        High         Low       Close   Adj Close  \\\n",
       "0     05-02-2018  262.000000  267.899994  250.029999  254.259995  254.259995   \n",
       "1     06-02-2018  247.699997  266.700012  245.000000  265.720001  265.720001   \n",
       "2     07-02-2018  266.579987  272.450012  264.329987  264.559998  264.559998   \n",
       "3     08-02-2018  267.079987  267.619995  250.000000  250.100006  250.100006   \n",
       "4     09-02-2018  253.850006  255.800003  236.110001  249.470001  249.470001   \n",
       "...          ...         ...         ...         ...         ...         ...   \n",
       "1004  31-01-2022  401.970001  427.700012  398.200012  427.140015  427.140015   \n",
       "1005  01-02-2022  432.959991  458.480011  425.540009  457.130005  457.130005   \n",
       "1006  02-02-2022  448.250000  451.980011  426.480011  429.480011  429.480011   \n",
       "1007  03-02-2022  421.440002  429.260010  404.279999  405.600006  405.600006   \n",
       "1008  04-02-2022  407.309998  412.769989  396.640015  410.170013  410.170013   \n",
       "\n",
       "        Volume  \n",
       "0     11896100  \n",
       "1     12595800  \n",
       "2      8981500  \n",
       "3      9306700  \n",
       "4     16906900  \n",
       "...        ...  \n",
       "1004  20047500  \n",
       "1005  22542300  \n",
       "1006  14346000  \n",
       "1007   9905200  \n",
       "1008   7782400  \n",
       "\n",
       "[1009 rows x 7 columns]"
      ]
     },
     "execution_count": 3,
     "metadata": {},
     "output_type": "execute_result"
    }
   ],
   "source": [
    "df= pd.read_csv(\"NFLX.csv\")\n",
    "df"
   ]
  },
  {
   "cell_type": "code",
   "execution_count": 4,
   "id": "3e3c4c68",
   "metadata": {},
   "outputs": [
    {
     "data": {
      "text/html": [
       "<div>\n",
       "<style scoped>\n",
       "    .dataframe tbody tr th:only-of-type {\n",
       "        vertical-align: middle;\n",
       "    }\n",
       "\n",
       "    .dataframe tbody tr th {\n",
       "        vertical-align: top;\n",
       "    }\n",
       "\n",
       "    .dataframe thead th {\n",
       "        text-align: right;\n",
       "    }\n",
       "</style>\n",
       "<table border=\"1\" class=\"dataframe\">\n",
       "  <thead>\n",
       "    <tr style=\"text-align: right;\">\n",
       "      <th></th>\n",
       "      <th>Date</th>\n",
       "      <th>Open</th>\n",
       "      <th>High</th>\n",
       "      <th>Low</th>\n",
       "      <th>Close</th>\n",
       "      <th>Adj Close</th>\n",
       "      <th>Volume</th>\n",
       "    </tr>\n",
       "  </thead>\n",
       "  <tbody>\n",
       "    <tr>\n",
       "      <th>0</th>\n",
       "      <td>05-02-2018</td>\n",
       "      <td>262.000000</td>\n",
       "      <td>267.899994</td>\n",
       "      <td>250.029999</td>\n",
       "      <td>254.259995</td>\n",
       "      <td>254.259995</td>\n",
       "      <td>11896100</td>\n",
       "    </tr>\n",
       "    <tr>\n",
       "      <th>1</th>\n",
       "      <td>06-02-2018</td>\n",
       "      <td>247.699997</td>\n",
       "      <td>266.700012</td>\n",
       "      <td>245.000000</td>\n",
       "      <td>265.720001</td>\n",
       "      <td>265.720001</td>\n",
       "      <td>12595800</td>\n",
       "    </tr>\n",
       "    <tr>\n",
       "      <th>2</th>\n",
       "      <td>07-02-2018</td>\n",
       "      <td>266.579987</td>\n",
       "      <td>272.450012</td>\n",
       "      <td>264.329987</td>\n",
       "      <td>264.559998</td>\n",
       "      <td>264.559998</td>\n",
       "      <td>8981500</td>\n",
       "    </tr>\n",
       "    <tr>\n",
       "      <th>3</th>\n",
       "      <td>08-02-2018</td>\n",
       "      <td>267.079987</td>\n",
       "      <td>267.619995</td>\n",
       "      <td>250.000000</td>\n",
       "      <td>250.100006</td>\n",
       "      <td>250.100006</td>\n",
       "      <td>9306700</td>\n",
       "    </tr>\n",
       "    <tr>\n",
       "      <th>4</th>\n",
       "      <td>09-02-2018</td>\n",
       "      <td>253.850006</td>\n",
       "      <td>255.800003</td>\n",
       "      <td>236.110001</td>\n",
       "      <td>249.470001</td>\n",
       "      <td>249.470001</td>\n",
       "      <td>16906900</td>\n",
       "    </tr>\n",
       "    <tr>\n",
       "      <th>...</th>\n",
       "      <td>...</td>\n",
       "      <td>...</td>\n",
       "      <td>...</td>\n",
       "      <td>...</td>\n",
       "      <td>...</td>\n",
       "      <td>...</td>\n",
       "      <td>...</td>\n",
       "    </tr>\n",
       "    <tr>\n",
       "      <th>1004</th>\n",
       "      <td>31-01-2022</td>\n",
       "      <td>401.970001</td>\n",
       "      <td>427.700012</td>\n",
       "      <td>398.200012</td>\n",
       "      <td>427.140015</td>\n",
       "      <td>427.140015</td>\n",
       "      <td>20047500</td>\n",
       "    </tr>\n",
       "    <tr>\n",
       "      <th>1005</th>\n",
       "      <td>01-02-2022</td>\n",
       "      <td>432.959991</td>\n",
       "      <td>458.480011</td>\n",
       "      <td>425.540009</td>\n",
       "      <td>457.130005</td>\n",
       "      <td>457.130005</td>\n",
       "      <td>22542300</td>\n",
       "    </tr>\n",
       "    <tr>\n",
       "      <th>1006</th>\n",
       "      <td>02-02-2022</td>\n",
       "      <td>448.250000</td>\n",
       "      <td>451.980011</td>\n",
       "      <td>426.480011</td>\n",
       "      <td>429.480011</td>\n",
       "      <td>429.480011</td>\n",
       "      <td>14346000</td>\n",
       "    </tr>\n",
       "    <tr>\n",
       "      <th>1007</th>\n",
       "      <td>03-02-2022</td>\n",
       "      <td>421.440002</td>\n",
       "      <td>429.260010</td>\n",
       "      <td>404.279999</td>\n",
       "      <td>405.600006</td>\n",
       "      <td>405.600006</td>\n",
       "      <td>9905200</td>\n",
       "    </tr>\n",
       "    <tr>\n",
       "      <th>1008</th>\n",
       "      <td>04-02-2022</td>\n",
       "      <td>407.309998</td>\n",
       "      <td>412.769989</td>\n",
       "      <td>396.640015</td>\n",
       "      <td>410.170013</td>\n",
       "      <td>410.170013</td>\n",
       "      <td>7782400</td>\n",
       "    </tr>\n",
       "  </tbody>\n",
       "</table>\n",
       "<p>1009 rows × 7 columns</p>\n",
       "</div>"
      ],
      "text/plain": [
       "            Date        Open        High         Low       Close   Adj Close  \\\n",
       "0     05-02-2018  262.000000  267.899994  250.029999  254.259995  254.259995   \n",
       "1     06-02-2018  247.699997  266.700012  245.000000  265.720001  265.720001   \n",
       "2     07-02-2018  266.579987  272.450012  264.329987  264.559998  264.559998   \n",
       "3     08-02-2018  267.079987  267.619995  250.000000  250.100006  250.100006   \n",
       "4     09-02-2018  253.850006  255.800003  236.110001  249.470001  249.470001   \n",
       "...          ...         ...         ...         ...         ...         ...   \n",
       "1004  31-01-2022  401.970001  427.700012  398.200012  427.140015  427.140015   \n",
       "1005  01-02-2022  432.959991  458.480011  425.540009  457.130005  457.130005   \n",
       "1006  02-02-2022  448.250000  451.980011  426.480011  429.480011  429.480011   \n",
       "1007  03-02-2022  421.440002  429.260010  404.279999  405.600006  405.600006   \n",
       "1008  04-02-2022  407.309998  412.769989  396.640015  410.170013  410.170013   \n",
       "\n",
       "        Volume  \n",
       "0     11896100  \n",
       "1     12595800  \n",
       "2      8981500  \n",
       "3      9306700  \n",
       "4     16906900  \n",
       "...        ...  \n",
       "1004  20047500  \n",
       "1005  22542300  \n",
       "1006  14346000  \n",
       "1007   9905200  \n",
       "1008   7782400  \n",
       "\n",
       "[1009 rows x 7 columns]"
      ]
     },
     "execution_count": 4,
     "metadata": {},
     "output_type": "execute_result"
    }
   ],
   "source": [
    "stock_data= df\n",
    "stock_data"
   ]
  },
  {
   "cell_type": "code",
   "execution_count": 6,
   "id": "8e725f9a",
   "metadata": {},
   "outputs": [
    {
     "data": {
      "text/html": [
       "<div>\n",
       "<style scoped>\n",
       "    .dataframe tbody tr th:only-of-type {\n",
       "        vertical-align: middle;\n",
       "    }\n",
       "\n",
       "    .dataframe tbody tr th {\n",
       "        vertical-align: top;\n",
       "    }\n",
       "\n",
       "    .dataframe thead th {\n",
       "        text-align: right;\n",
       "    }\n",
       "</style>\n",
       "<table border=\"1\" class=\"dataframe\">\n",
       "  <thead>\n",
       "    <tr style=\"text-align: right;\">\n",
       "      <th></th>\n",
       "      <th>Date</th>\n",
       "      <th>Open</th>\n",
       "      <th>High</th>\n",
       "      <th>Low</th>\n",
       "      <th>Close</th>\n",
       "      <th>Adj Close</th>\n",
       "      <th>Volume</th>\n",
       "    </tr>\n",
       "  </thead>\n",
       "  <tbody>\n",
       "    <tr>\n",
       "      <th>0</th>\n",
       "      <td>05-02-2018</td>\n",
       "      <td>262.000000</td>\n",
       "      <td>267.899994</td>\n",
       "      <td>250.029999</td>\n",
       "      <td>254.259995</td>\n",
       "      <td>254.259995</td>\n",
       "      <td>11896100</td>\n",
       "    </tr>\n",
       "    <tr>\n",
       "      <th>1</th>\n",
       "      <td>06-02-2018</td>\n",
       "      <td>247.699997</td>\n",
       "      <td>266.700012</td>\n",
       "      <td>245.000000</td>\n",
       "      <td>265.720001</td>\n",
       "      <td>265.720001</td>\n",
       "      <td>12595800</td>\n",
       "    </tr>\n",
       "    <tr>\n",
       "      <th>2</th>\n",
       "      <td>07-02-2018</td>\n",
       "      <td>266.579987</td>\n",
       "      <td>272.450012</td>\n",
       "      <td>264.329987</td>\n",
       "      <td>264.559998</td>\n",
       "      <td>264.559998</td>\n",
       "      <td>8981500</td>\n",
       "    </tr>\n",
       "    <tr>\n",
       "      <th>3</th>\n",
       "      <td>08-02-2018</td>\n",
       "      <td>267.079987</td>\n",
       "      <td>267.619995</td>\n",
       "      <td>250.000000</td>\n",
       "      <td>250.100006</td>\n",
       "      <td>250.100006</td>\n",
       "      <td>9306700</td>\n",
       "    </tr>\n",
       "    <tr>\n",
       "      <th>4</th>\n",
       "      <td>09-02-2018</td>\n",
       "      <td>253.850006</td>\n",
       "      <td>255.800003</td>\n",
       "      <td>236.110001</td>\n",
       "      <td>249.470001</td>\n",
       "      <td>249.470001</td>\n",
       "      <td>16906900</td>\n",
       "    </tr>\n",
       "  </tbody>\n",
       "</table>\n",
       "</div>"
      ],
      "text/plain": [
       "         Date        Open        High         Low       Close   Adj Close  \\\n",
       "0  05-02-2018  262.000000  267.899994  250.029999  254.259995  254.259995   \n",
       "1  06-02-2018  247.699997  266.700012  245.000000  265.720001  265.720001   \n",
       "2  07-02-2018  266.579987  272.450012  264.329987  264.559998  264.559998   \n",
       "3  08-02-2018  267.079987  267.619995  250.000000  250.100006  250.100006   \n",
       "4  09-02-2018  253.850006  255.800003  236.110001  249.470001  249.470001   \n",
       "\n",
       "     Volume  \n",
       "0  11896100  \n",
       "1  12595800  \n",
       "2   8981500  \n",
       "3   9306700  \n",
       "4  16906900  "
      ]
     },
     "execution_count": 6,
     "metadata": {},
     "output_type": "execute_result"
    }
   ],
   "source": [
    "stock_data.head()"
   ]
  },
  {
   "cell_type": "code",
   "execution_count": 7,
   "id": "d59e45b2",
   "metadata": {},
   "outputs": [
    {
     "name": "stdout",
     "output_type": "stream",
     "text": [
      "<class 'pandas.core.frame.DataFrame'>\n",
      "RangeIndex: 1009 entries, 0 to 1008\n",
      "Data columns (total 7 columns):\n",
      " #   Column     Non-Null Count  Dtype  \n",
      "---  ------     --------------  -----  \n",
      " 0   Date       1009 non-null   object \n",
      " 1   Open       1009 non-null   float64\n",
      " 2   High       1009 non-null   float64\n",
      " 3   Low        1009 non-null   float64\n",
      " 4   Close      1009 non-null   float64\n",
      " 5   Adj Close  1009 non-null   float64\n",
      " 6   Volume     1009 non-null   int64  \n",
      "dtypes: float64(5), int64(1), object(1)\n",
      "memory usage: 55.3+ KB\n"
     ]
    }
   ],
   "source": [
    "stock_data.info()"
   ]
  },
  {
   "cell_type": "code",
   "execution_count": 169,
   "id": "d4fb9cc7",
   "metadata": {},
   "outputs": [
    {
     "data": {
      "text/html": [
       "<div>\n",
       "<style scoped>\n",
       "    .dataframe tbody tr th:only-of-type {\n",
       "        vertical-align: middle;\n",
       "    }\n",
       "\n",
       "    .dataframe tbody tr th {\n",
       "        vertical-align: top;\n",
       "    }\n",
       "\n",
       "    .dataframe thead th {\n",
       "        text-align: right;\n",
       "    }\n",
       "</style>\n",
       "<table border=\"1\" class=\"dataframe\">\n",
       "  <thead>\n",
       "    <tr style=\"text-align: right;\">\n",
       "      <th></th>\n",
       "      <th>Open</th>\n",
       "      <th>High</th>\n",
       "      <th>Low</th>\n",
       "      <th>Close</th>\n",
       "      <th>Adj Close</th>\n",
       "      <th>Volume</th>\n",
       "    </tr>\n",
       "  </thead>\n",
       "  <tbody>\n",
       "    <tr>\n",
       "      <th>0</th>\n",
       "      <td>262.000000</td>\n",
       "      <td>267.899994</td>\n",
       "      <td>250.029999</td>\n",
       "      <td>254.259995</td>\n",
       "      <td>254.259995</td>\n",
       "      <td>11896100</td>\n",
       "    </tr>\n",
       "    <tr>\n",
       "      <th>1</th>\n",
       "      <td>247.699997</td>\n",
       "      <td>266.700012</td>\n",
       "      <td>245.000000</td>\n",
       "      <td>265.720001</td>\n",
       "      <td>265.720001</td>\n",
       "      <td>12595800</td>\n",
       "    </tr>\n",
       "    <tr>\n",
       "      <th>2</th>\n",
       "      <td>266.579987</td>\n",
       "      <td>272.450012</td>\n",
       "      <td>264.329987</td>\n",
       "      <td>264.559998</td>\n",
       "      <td>264.559998</td>\n",
       "      <td>8981500</td>\n",
       "    </tr>\n",
       "    <tr>\n",
       "      <th>3</th>\n",
       "      <td>267.079987</td>\n",
       "      <td>267.619995</td>\n",
       "      <td>250.000000</td>\n",
       "      <td>250.100006</td>\n",
       "      <td>250.100006</td>\n",
       "      <td>9306700</td>\n",
       "    </tr>\n",
       "    <tr>\n",
       "      <th>4</th>\n",
       "      <td>253.850006</td>\n",
       "      <td>255.800003</td>\n",
       "      <td>236.110001</td>\n",
       "      <td>249.470001</td>\n",
       "      <td>249.470001</td>\n",
       "      <td>16906900</td>\n",
       "    </tr>\n",
       "    <tr>\n",
       "      <th>...</th>\n",
       "      <td>...</td>\n",
       "      <td>...</td>\n",
       "      <td>...</td>\n",
       "      <td>...</td>\n",
       "      <td>...</td>\n",
       "      <td>...</td>\n",
       "    </tr>\n",
       "    <tr>\n",
       "      <th>1004</th>\n",
       "      <td>401.970001</td>\n",
       "      <td>427.700012</td>\n",
       "      <td>398.200012</td>\n",
       "      <td>427.140015</td>\n",
       "      <td>427.140015</td>\n",
       "      <td>20047500</td>\n",
       "    </tr>\n",
       "    <tr>\n",
       "      <th>1005</th>\n",
       "      <td>432.959991</td>\n",
       "      <td>458.480011</td>\n",
       "      <td>425.540009</td>\n",
       "      <td>457.130005</td>\n",
       "      <td>457.130005</td>\n",
       "      <td>22542300</td>\n",
       "    </tr>\n",
       "    <tr>\n",
       "      <th>1006</th>\n",
       "      <td>448.250000</td>\n",
       "      <td>451.980011</td>\n",
       "      <td>426.480011</td>\n",
       "      <td>429.480011</td>\n",
       "      <td>429.480011</td>\n",
       "      <td>14346000</td>\n",
       "    </tr>\n",
       "    <tr>\n",
       "      <th>1007</th>\n",
       "      <td>421.440002</td>\n",
       "      <td>429.260010</td>\n",
       "      <td>404.279999</td>\n",
       "      <td>405.600006</td>\n",
       "      <td>405.600006</td>\n",
       "      <td>9905200</td>\n",
       "    </tr>\n",
       "    <tr>\n",
       "      <th>1008</th>\n",
       "      <td>407.309998</td>\n",
       "      <td>412.769989</td>\n",
       "      <td>396.640015</td>\n",
       "      <td>410.170013</td>\n",
       "      <td>410.170013</td>\n",
       "      <td>7782400</td>\n",
       "    </tr>\n",
       "  </tbody>\n",
       "</table>\n",
       "<p>1009 rows × 6 columns</p>\n",
       "</div>"
      ],
      "text/plain": [
       "            Open        High         Low       Close   Adj Close    Volume\n",
       "0     262.000000  267.899994  250.029999  254.259995  254.259995  11896100\n",
       "1     247.699997  266.700012  245.000000  265.720001  265.720001  12595800\n",
       "2     266.579987  272.450012  264.329987  264.559998  264.559998   8981500\n",
       "3     267.079987  267.619995  250.000000  250.100006  250.100006   9306700\n",
       "4     253.850006  255.800003  236.110001  249.470001  249.470001  16906900\n",
       "...          ...         ...         ...         ...         ...       ...\n",
       "1004  401.970001  427.700012  398.200012  427.140015  427.140015  20047500\n",
       "1005  432.959991  458.480011  425.540009  457.130005  457.130005  22542300\n",
       "1006  448.250000  451.980011  426.480011  429.480011  429.480011  14346000\n",
       "1007  421.440002  429.260010  404.279999  405.600006  405.600006   9905200\n",
       "1008  407.309998  412.769989  396.640015  410.170013  410.170013   7782400\n",
       "\n",
       "[1009 rows x 6 columns]"
      ]
     },
     "execution_count": 169,
     "metadata": {},
     "output_type": "execute_result"
    }
   ],
   "source": [
    "stock_data.describe()\n",
    "\n",
    "x = df.drop(\"Date\",axis = 1)\n",
    "x \n"
   ]
  },
  {
   "cell_type": "markdown",
   "id": "3757b0c9",
   "metadata": {},
   "source": [
    "## Linearity "
   ]
  },
  {
   "cell_type": "code",
   "execution_count": 159,
   "id": "daaa0ba6",
   "metadata": {},
   "outputs": [
    {
     "data": {
      "text/html": [
       "<div>\n",
       "<style scoped>\n",
       "    .dataframe tbody tr th:only-of-type {\n",
       "        vertical-align: middle;\n",
       "    }\n",
       "\n",
       "    .dataframe tbody tr th {\n",
       "        vertical-align: top;\n",
       "    }\n",
       "\n",
       "    .dataframe thead th {\n",
       "        text-align: right;\n",
       "    }\n",
       "</style>\n",
       "<table border=\"1\" class=\"dataframe\">\n",
       "  <thead>\n",
       "    <tr style=\"text-align: right;\">\n",
       "      <th></th>\n",
       "      <th>Open</th>\n",
       "      <th>High</th>\n",
       "      <th>Low</th>\n",
       "      <th>Close</th>\n",
       "      <th>Adj Close</th>\n",
       "      <th>Volume</th>\n",
       "    </tr>\n",
       "  </thead>\n",
       "  <tbody>\n",
       "    <tr>\n",
       "      <th>Open</th>\n",
       "      <td>1.000000</td>\n",
       "      <td>0.998605</td>\n",
       "      <td>0.998508</td>\n",
       "      <td>0.996812</td>\n",
       "      <td>0.996812</td>\n",
       "      <td>-0.415838</td>\n",
       "    </tr>\n",
       "    <tr>\n",
       "      <th>High</th>\n",
       "      <td>0.998605</td>\n",
       "      <td>1.000000</td>\n",
       "      <td>0.998203</td>\n",
       "      <td>0.998551</td>\n",
       "      <td>0.998551</td>\n",
       "      <td>-0.400699</td>\n",
       "    </tr>\n",
       "    <tr>\n",
       "      <th>Low</th>\n",
       "      <td>0.998508</td>\n",
       "      <td>0.998203</td>\n",
       "      <td>1.000000</td>\n",
       "      <td>0.998544</td>\n",
       "      <td>0.998544</td>\n",
       "      <td>-0.432116</td>\n",
       "    </tr>\n",
       "    <tr>\n",
       "      <th>Close</th>\n",
       "      <td>0.996812</td>\n",
       "      <td>0.998551</td>\n",
       "      <td>0.998544</td>\n",
       "      <td>1.000000</td>\n",
       "      <td>1.000000</td>\n",
       "      <td>-0.413362</td>\n",
       "    </tr>\n",
       "    <tr>\n",
       "      <th>Adj Close</th>\n",
       "      <td>0.996812</td>\n",
       "      <td>0.998551</td>\n",
       "      <td>0.998544</td>\n",
       "      <td>1.000000</td>\n",
       "      <td>1.000000</td>\n",
       "      <td>-0.413362</td>\n",
       "    </tr>\n",
       "    <tr>\n",
       "      <th>Volume</th>\n",
       "      <td>-0.415838</td>\n",
       "      <td>-0.400699</td>\n",
       "      <td>-0.432116</td>\n",
       "      <td>-0.413362</td>\n",
       "      <td>-0.413362</td>\n",
       "      <td>1.000000</td>\n",
       "    </tr>\n",
       "  </tbody>\n",
       "</table>\n",
       "</div>"
      ],
      "text/plain": [
       "               Open      High       Low     Close  Adj Close    Volume\n",
       "Open       1.000000  0.998605  0.998508  0.996812   0.996812 -0.415838\n",
       "High       0.998605  1.000000  0.998203  0.998551   0.998551 -0.400699\n",
       "Low        0.998508  0.998203  1.000000  0.998544   0.998544 -0.432116\n",
       "Close      0.996812  0.998551  0.998544  1.000000   1.000000 -0.413362\n",
       "Adj Close  0.996812  0.998551  0.998544  1.000000   1.000000 -0.413362\n",
       "Volume    -0.415838 -0.400699 -0.432116 -0.413362  -0.413362  1.000000"
      ]
     },
     "execution_count": 159,
     "metadata": {},
     "output_type": "execute_result"
    }
   ],
   "source": [
    "stock_data.corr()"
   ]
  },
  {
   "cell_type": "code",
   "execution_count": 160,
   "id": "a604d0fe",
   "metadata": {},
   "outputs": [
    {
     "data": {
      "text/plain": [
       "Open         1.178040e+04\n",
       "High         1.193839e+04\n",
       "Low          1.156826e+04\n",
       "Close        1.172672e+04\n",
       "Adj Close    1.172672e+04\n",
       "Volume       2.987208e+13\n",
       "dtype: float64"
      ]
     },
     "execution_count": 160,
     "metadata": {},
     "output_type": "execute_result"
    }
   ],
   "source": [
    "stock_data.var()"
   ]
  },
  {
   "cell_type": "code",
   "execution_count": 162,
   "id": "bbdea6f0",
   "metadata": {},
   "outputs": [
    {
     "data": {
      "text/plain": [
       "<Axes: >"
      ]
     },
     "execution_count": 162,
     "metadata": {},
     "output_type": "execute_result"
    },
    {
     "data": {
      "image/png": "[encoded data removed]",
      "text/plain": [
       "<Figure size 640x480 with 2 Axes>"
      ]
     },
     "metadata": {},
     "output_type": "display_data"
    }
   ],
   "source": [
    "sns.heatmap(stock_data.corr(),annot = True)"
   ]
  },
  {
   "cell_type": "code",
   "execution_count": 86,
   "id": "49500f33",
   "metadata": {},
   "outputs": [
    {
     "data": {
      "text/html": [
       "<div>\n",
       "<style scoped>\n",
       "    .dataframe tbody tr th:only-of-type {\n",
       "        vertical-align: middle;\n",
       "    }\n",
       "\n",
       "    .dataframe tbody tr th {\n",
       "        vertical-align: top;\n",
       "    }\n",
       "\n",
       "    .dataframe thead th {\n",
       "        text-align: right;\n",
       "    }\n",
       "</style>\n",
       "<table border=\"1\" class=\"dataframe\">\n",
       "  <thead>\n",
       "    <tr style=\"text-align: right;\">\n",
       "      <th></th>\n",
       "      <th>Open</th>\n",
       "      <th>High</th>\n",
       "      <th>Low</th>\n",
       "      <th>Close</th>\n",
       "      <th>Adj Close</th>\n",
       "      <th>Volume</th>\n",
       "    </tr>\n",
       "  </thead>\n",
       "  <tbody>\n",
       "    <tr>\n",
       "      <th>Volume</th>\n",
       "      <td>-0.415838</td>\n",
       "      <td>-0.400699</td>\n",
       "      <td>-0.432116</td>\n",
       "      <td>-0.413362</td>\n",
       "      <td>-0.413362</td>\n",
       "      <td>1.0</td>\n",
       "    </tr>\n",
       "  </tbody>\n",
       "</table>\n",
       "</div>"
      ],
      "text/plain": [
       "            Open      High       Low     Close  Adj Close  Volume\n",
       "Volume -0.415838 -0.400699 -0.432116 -0.413362  -0.413362     1.0"
      ]
     },
     "execution_count": 86,
     "metadata": {},
     "output_type": "execute_result"
    }
   ],
   "source": [
    "correlation = stock_data.corr().tail(1)\n",
    "correlation"
   ]
  },
  {
   "cell_type": "code",
   "execution_count": 87,
   "id": "140e6e10",
   "metadata": {},
   "outputs": [
    {
     "data": {
      "text/plain": [
       "<Axes: >"
      ]
     },
     "execution_count": 87,
     "metadata": {},
     "output_type": "execute_result"
    },
    {
     "data": {
      "image/png": "[encoded data removed]",
      "text/plain": [
       "<Figure size 800x100 with 2 Axes>"
      ]
     },
     "metadata": {},
     "output_type": "display_data"
    }
   ],
   "source": [
    "plt.figure(figsize = (8,1))\n",
    "sns.heatmap(correlation ,annot = True)\n"
   ]
  },
  {
   "cell_type": "markdown",
   "id": "30ecbec4",
   "metadata": {},
   "source": [
    "## No Multicolinearity "
   ]
  },
  {
   "cell_type": "code",
   "execution_count": 170,
   "id": "591b73a4",
   "metadata": {},
   "outputs": [
    {
     "data": {
      "text/plain": [
       "Index(['Date', 'Open', 'High', 'Low', 'Close', 'Adj Close', 'Volume'], dtype='object')"
      ]
     },
     "execution_count": 170,
     "metadata": {},
     "output_type": "execute_result"
    }
   ],
   "source": [
    "stock_data.columns"
   ]
  },
  {
   "cell_type": "code",
   "execution_count": 171,
   "id": "ee014385",
   "metadata": {},
   "outputs": [
    {
     "data": {
      "text/plain": [
       "Index(['Open', 'High', 'Low', 'Close', 'Adj Close', 'Volume'], dtype='object')"
      ]
     },
     "execution_count": 171,
     "metadata": {},
     "output_type": "execute_result"
    }
   ],
   "source": [
    "x = df.drop(\"Date\",axis = 1)\n",
    "#x =df.drop(columns=[\"Adj Close\", \"Date\"])\n",
    "\n",
    "x.columns"
   ]
  },
  {
   "cell_type": "code",
   "execution_count": 172,
   "id": "a7709360",
   "metadata": {},
   "outputs": [
    {
     "data": {
      "text/plain": [
       "6"
      ]
     },
     "execution_count": 172,
     "metadata": {},
     "output_type": "execute_result"
    }
   ],
   "source": [
    "data.shape[1]"
   ]
  },
  {
   "cell_type": "code",
   "execution_count": 173,
   "id": "8af0a379",
   "metadata": {},
   "outputs": [
    {
     "data": {
      "text/plain": [
       "array([[2.62000000e+02, 2.67899994e+02, 2.50029999e+02, 2.54259995e+02,\n",
       "        2.54259995e+02, 1.18961000e+07],\n",
       "       [2.47699997e+02, 2.66700012e+02, 2.45000000e+02, 2.65720001e+02,\n",
       "        2.65720001e+02, 1.25958000e+07],\n",
       "       [2.66579987e+02, 2.72450012e+02, 2.64329987e+02, 2.64559998e+02,\n",
       "        2.64559998e+02, 8.98150000e+06],\n",
       "       ...,\n",
       "       [4.48250000e+02, 4.51980011e+02, 4.26480011e+02, 4.29480011e+02,\n",
       "        4.29480011e+02, 1.43460000e+07],\n",
       "       [4.21440002e+02, 4.29260010e+02, 4.04279999e+02, 4.05600006e+02,\n",
       "        4.05600006e+02, 9.90520000e+06],\n",
       "       [4.07309998e+02, 4.12769989e+02, 3.96640015e+02, 4.10170013e+02,\n",
       "        4.10170013e+02, 7.78240000e+06]])"
      ]
     },
     "execution_count": 173,
     "metadata": {},
     "output_type": "execute_result"
    }
   ],
   "source": [
    "x.to_numpy()"
   ]
  },
  {
   "cell_type": "code",
   "execution_count": 174,
   "id": "fd906e4f",
   "metadata": {},
   "outputs": [
    {
     "name": "stdout",
     "output_type": "stream",
     "text": [
      "VIF of Open >>  12484.621419696437\n",
      "VIF of High >>  16448.058736087296\n",
      "VIF of Low >>  16178.223922904326\n",
      "VIF of Close >>  inf\n",
      "VIF of Adj Close >>  inf\n"
     ]
    }
   ],
   "source": [
    "vif_list = []\n",
    "for i in range(x.shape[1] - 1): # i = 0\n",
    "    vif = variance_inflation_factor(x.to_numpy(),i)\n",
    "    print(f\"VIF of {data.columns[i]} >> \",vif)\n",
    "    vif_list.append(vif)"
   ]
  },
  {
   "cell_type": "code",
   "execution_count": 167,
   "id": "ab2d02de",
   "metadata": {},
   "outputs": [
    {
     "data": {
      "text/plain": [
       "[12484.621419696437, 16448.058736087296, 16178.223922904326, inf, inf]"
      ]
     },
     "execution_count": 167,
     "metadata": {},
     "output_type": "execute_result"
    }
   ],
   "source": [
    "vif_list"
   ]
  },
  {
   "cell_type": "code",
   "execution_count": 175,
   "id": "e98f8b88",
   "metadata": {},
   "outputs": [],
   "source": [
    "x = stock_data[['High','Low','Open','Volume']].values\n",
    "y = stock_data['Volume'].values"
   ]
  },
  {
   "cell_type": "code",
   "execution_count": 176,
   "id": "da52f63d",
   "metadata": {},
   "outputs": [
    {
     "data": {
      "text/plain": [
       "array([[2.67899994e+02, 2.50029999e+02, 2.62000000e+02, 1.18961000e+07],\n",
       "       [2.66700012e+02, 2.45000000e+02, 2.47699997e+02, 1.25958000e+07],\n",
       "       [2.72450012e+02, 2.64329987e+02, 2.66579987e+02, 8.98150000e+06],\n",
       "       ...,\n",
       "       [4.51980011e+02, 4.26480011e+02, 4.48250000e+02, 1.43460000e+07],\n",
       "       [4.29260010e+02, 4.04279999e+02, 4.21440002e+02, 9.90520000e+06],\n",
       "       [4.12769989e+02, 3.96640015e+02, 4.07309998e+02, 7.78240000e+06]])"
      ]
     },
     "execution_count": 176,
     "metadata": {},
     "output_type": "execute_result"
    }
   ],
   "source": [
    "x"
   ]
  },
  {
   "cell_type": "code",
   "execution_count": 113,
   "id": "80feca11",
   "metadata": {},
   "outputs": [
    {
     "data": {
      "text/plain": [
       "array([11896100, 12595800,  8981500, ..., 14346000,  9905200,  7782400],\n",
       "      dtype=int64)"
      ]
     },
     "execution_count": 113,
     "metadata": {},
     "output_type": "execute_result"
    }
   ],
   "source": [
    "y"
   ]
  },
  {
   "cell_type": "code",
   "execution_count": 114,
   "id": "705d6aa6",
   "metadata": {},
   "outputs": [],
   "source": [
    "x_train,x_test,y_train,y_test = train_test_split(x,y,test_size=0.2, random_state= 42)\n",
    "                                "
   ]
  },
  {
   "cell_type": "markdown",
   "id": "5e5a0d46",
   "metadata": {},
   "source": [
    "## Linear Regression Model"
   ]
  },
  {
   "cell_type": "code",
   "execution_count": 177,
   "id": "eb9e61e5",
   "metadata": {},
   "outputs": [
    {
     "data": {
      "text/html": [
       "<style>#sk-container-id-7 {color: black;background-color: white;}#sk-container-id-7 pre{padding: 0;}#sk-container-id-7 div.sk-toggleable {background-color: white;}#sk-container-id-7 label.sk-toggleable__label {cursor: pointer;display: block;width: 100%;margin-bottom: 0;padding: 0.3em;box-sizing: border-box;text-align: center;}#sk-container-id-7 label.sk-toggleable__label-arrow:before {content: \"▸\";float: left;margin-right: 0.25em;color: #696969;}#sk-container-id-7 label.sk-toggleable__label-arrow:hover:before {color: black;}#sk-container-id-7 div.sk-estimator:hover label.sk-toggleable__label-arrow:before {color: black;}#sk-container-id-7 div.sk-toggleable__content {max-height: 0;max-width: 0;overflow: hidden;text-align: left;background-color: #f0f8ff;}#sk-container-id-7 div.sk-toggleable__content pre {margin: 0.2em;color: black;border-radius: 0.25em;background-color: #f0f8ff;}#sk-container-id-7 input.sk-toggleable__control:checked~div.sk-toggleable__content {max-height: 200px;max-width: 100%;overflow: auto;}#sk-container-id-7 input.sk-toggleable__control:checked~label.sk-toggleable__label-arrow:before {content: \"▾\";}#sk-container-id-7 div.sk-estimator input.sk-toggleable__control:checked~label.sk-toggleable__label {background-color: #d4ebff;}#sk-container-id-7 div.sk-label input.sk-toggleable__control:checked~label.sk-toggleable__label {background-color: #d4ebff;}#sk-container-id-7 input.sk-hidden--visually {border: 0;clip: rect(1px 1px 1px 1px);clip: rect(1px, 1px, 1px, 1px);height: 1px;margin: -1px;overflow: hidden;padding: 0;position: absolute;width: 1px;}#sk-container-id-7 div.sk-estimator {font-family: monospace;background-color: #f0f8ff;border: 1px dotted black;border-radius: 0.25em;box-sizing: border-box;margin-bottom: 0.5em;}#sk-container-id-7 div.sk-estimator:hover {background-color: #d4ebff;}#sk-container-id-7 div.sk-parallel-item::after {content: \"\";width: 100%;border-bottom: 1px solid gray;flex-grow: 1;}#sk-container-id-7 div.sk-label:hover label.sk-toggleable__label {background-color: #d4ebff;}#sk-container-id-7 div.sk-serial::before {content: \"\";position: absolute;border-left: 1px solid gray;box-sizing: border-box;top: 0;bottom: 0;left: 50%;z-index: 0;}#sk-container-id-7 div.sk-serial {display: flex;flex-direction: column;align-items: center;background-color: white;padding-right: 0.2em;padding-left: 0.2em;position: relative;}#sk-container-id-7 div.sk-item {position: relative;z-index: 1;}#sk-container-id-7 div.sk-parallel {display: flex;align-items: stretch;justify-content: center;background-color: white;position: relative;}#sk-container-id-7 div.sk-item::before, #sk-container-id-7 div.sk-parallel-item::before {content: \"\";position: absolute;border-left: 1px solid gray;box-sizing: border-box;top: 0;bottom: 0;left: 50%;z-index: -1;}#sk-container-id-7 div.sk-parallel-item {display: flex;flex-direction: column;z-index: 1;position: relative;background-color: white;}#sk-container-id-7 div.sk-parallel-item:first-child::after {align-self: flex-end;width: 50%;}#sk-container-id-7 div.sk-parallel-item:last-child::after {align-self: flex-start;width: 50%;}#sk-container-id-7 div.sk-parallel-item:only-child::after {width: 0;}#sk-container-id-7 div.sk-dashed-wrapped {border: 1px dashed gray;margin: 0 0.4em 0.5em 0.4em;box-sizing: border-box;padding-bottom: 0.4em;background-color: white;}#sk-container-id-7 div.sk-label label {font-family: monospace;font-weight: bold;display: inline-block;line-height: 1.2em;}#sk-container-id-7 div.sk-label-container {text-align: center;}#sk-container-id-7 div.sk-container {/* jupyter's `normalize.less` sets `[hidden] { display: none; }` but bootstrap.min.css set `[hidden] { display: none !important; }` so we also need the `!important` here to be able to override the default hidden behavior on the sphinx rendered scikit-learn.org. See: https://github.com/scikit-learn/scikit-learn/issues/21755 */display: inline-block !important;position: relative;}#sk-container-id-7 div.sk-text-repr-fallback {display: none;}</style><div id=\"sk-container-id-7\" class=\"sk-top-container\"><div class=\"sk-text-repr-fallback\"><pre>LinearRegression()</pre><b>In a Jupyter environment, please rerun this cell to show the HTML representation or trust the notebook. <br />On GitHub, the HTML representation is unable to render, please try loading this page with nbviewer.org.</b></div><div class=\"sk-container\" hidden><div class=\"sk-item\"><div class=\"sk-estimator sk-toggleable\"><input class=\"sk-toggleable__control sk-hidden--visually\" id=\"sk-estimator-id-7\" type=\"checkbox\" checked><label for=\"sk-estimator-id-7\" class=\"sk-toggleable__label sk-toggleable__label-arrow\">LinearRegression</label><div class=\"sk-toggleable__content\"><pre>LinearRegression()</pre></div></div></div></div></div>"
      ],
      "text/plain": [
       "LinearRegression()"
      ]
     },
     "execution_count": 177,
     "metadata": {},
     "output_type": "execute_result"
    }
   ],
   "source": [
    "linear_reg = LinearRegression()\n",
    "linear_reg"
   ]
  },
  {
   "cell_type": "code",
   "execution_count": 116,
   "id": "dcc51e5f",
   "metadata": {},
   "outputs": [
    {
     "data": {
      "text/html": [
       "<style>#sk-container-id-6 {color: black;background-color: white;}#sk-container-id-6 pre{padding: 0;}#sk-container-id-6 div.sk-toggleable {background-color: white;}#sk-container-id-6 label.sk-toggleable__label {cursor: pointer;display: block;width: 100%;margin-bottom: 0;padding: 0.3em;box-sizing: border-box;text-align: center;}#sk-container-id-6 label.sk-toggleable__label-arrow:before {content: \"▸\";float: left;margin-right: 0.25em;color: #696969;}#sk-container-id-6 label.sk-toggleable__label-arrow:hover:before {color: black;}#sk-container-id-6 div.sk-estimator:hover label.sk-toggleable__label-arrow:before {color: black;}#sk-container-id-6 div.sk-toggleable__content {max-height: 0;max-width: 0;overflow: hidden;text-align: left;background-color: #f0f8ff;}#sk-container-id-6 div.sk-toggleable__content pre {margin: 0.2em;color: black;border-radius: 0.25em;background-color: #f0f8ff;}#sk-container-id-6 input.sk-toggleable__control:checked~div.sk-toggleable__content {max-height: 200px;max-width: 100%;overflow: auto;}#sk-container-id-6 input.sk-toggleable__control:checked~label.sk-toggleable__label-arrow:before {content: \"▾\";}#sk-container-id-6 div.sk-estimator input.sk-toggleable__control:checked~label.sk-toggleable__label {background-color: #d4ebff;}#sk-container-id-6 div.sk-label input.sk-toggleable__control:checked~label.sk-toggleable__label {background-color: #d4ebff;}#sk-container-id-6 input.sk-hidden--visually {border: 0;clip: rect(1px 1px 1px 1px);clip: rect(1px, 1px, 1px, 1px);height: 1px;margin: -1px;overflow: hidden;padding: 0;position: absolute;width: 1px;}#sk-container-id-6 div.sk-estimator {font-family: monospace;background-color: #f0f8ff;border: 1px dotted black;border-radius: 0.25em;box-sizing: border-box;margin-bottom: 0.5em;}#sk-container-id-6 div.sk-estimator:hover {background-color: #d4ebff;}#sk-container-id-6 div.sk-parallel-item::after {content: \"\";width: 100%;border-bottom: 1px solid gray;flex-grow: 1;}#sk-container-id-6 div.sk-label:hover label.sk-toggleable__label {background-color: #d4ebff;}#sk-container-id-6 div.sk-serial::before {content: \"\";position: absolute;border-left: 1px solid gray;box-sizing: border-box;top: 0;bottom: 0;left: 50%;z-index: 0;}#sk-container-id-6 div.sk-serial {display: flex;flex-direction: column;align-items: center;background-color: white;padding-right: 0.2em;padding-left: 0.2em;position: relative;}#sk-container-id-6 div.sk-item {position: relative;z-index: 1;}#sk-container-id-6 div.sk-parallel {display: flex;align-items: stretch;justify-content: center;background-color: white;position: relative;}#sk-container-id-6 div.sk-item::before, #sk-container-id-6 div.sk-parallel-item::before {content: \"\";position: absolute;border-left: 1px solid gray;box-sizing: border-box;top: 0;bottom: 0;left: 50%;z-index: -1;}#sk-container-id-6 div.sk-parallel-item {display: flex;flex-direction: column;z-index: 1;position: relative;background-color: white;}#sk-container-id-6 div.sk-parallel-item:first-child::after {align-self: flex-end;width: 50%;}#sk-container-id-6 div.sk-parallel-item:last-child::after {align-self: flex-start;width: 50%;}#sk-container-id-6 div.sk-parallel-item:only-child::after {width: 0;}#sk-container-id-6 div.sk-dashed-wrapped {border: 1px dashed gray;margin: 0 0.4em 0.5em 0.4em;box-sizing: border-box;padding-bottom: 0.4em;background-color: white;}#sk-container-id-6 div.sk-label label {font-family: monospace;font-weight: bold;display: inline-block;line-height: 1.2em;}#sk-container-id-6 div.sk-label-container {text-align: center;}#sk-container-id-6 div.sk-container {/* jupyter's `normalize.less` sets `[hidden] { display: none; }` but bootstrap.min.css set `[hidden] { display: none !important; }` so we also need the `!important` here to be able to override the default hidden behavior on the sphinx rendered scikit-learn.org. See: https://github.com/scikit-learn/scikit-learn/issues/21755 */display: inline-block !important;position: relative;}#sk-container-id-6 div.sk-text-repr-fallback {display: none;}</style><div id=\"sk-container-id-6\" class=\"sk-top-container\"><div class=\"sk-text-repr-fallback\"><pre>LinearRegression()</pre><b>In a Jupyter environment, please rerun this cell to show the HTML representation or trust the notebook. <br />On GitHub, the HTML representation is unable to render, please try loading this page with nbviewer.org.</b></div><div class=\"sk-container\" hidden><div class=\"sk-item\"><div class=\"sk-estimator sk-toggleable\"><input class=\"sk-toggleable__control sk-hidden--visually\" id=\"sk-estimator-id-6\" type=\"checkbox\" checked><label for=\"sk-estimator-id-6\" class=\"sk-toggleable__label sk-toggleable__label-arrow\">LinearRegression</label><div class=\"sk-toggleable__content\"><pre>LinearRegression()</pre></div></div></div></div></div>"
      ],
      "text/plain": [
       "LinearRegression()"
      ]
     },
     "execution_count": 116,
     "metadata": {},
     "output_type": "execute_result"
    }
   ],
   "source": [
    "linear_reg.fit(x_train,y_train)"
   ]
  },
  {
   "cell_type": "code",
   "execution_count": 117,
   "id": "0cf4d028",
   "metadata": {},
   "outputs": [
    {
     "data": {
      "text/plain": [
       "array([-6.61194398e-10,  6.78980649e-10,  1.41302469e-11,  1.00000000e+00])"
      ]
     },
     "execution_count": 117,
     "metadata": {},
     "output_type": "execute_result"
    }
   ],
   "source": [
    "linear_reg.coef_"
   ]
  },
  {
   "cell_type": "code",
   "execution_count": 119,
   "id": "9ec5c1c1",
   "metadata": {},
   "outputs": [
    {
     "data": {
      "text/plain": [
       "-1.4901161193847656e-08"
      ]
     },
     "execution_count": 119,
     "metadata": {},
     "output_type": "execute_result"
    }
   ],
   "source": [
    "linear_reg.intercept_"
   ]
  },
  {
   "cell_type": "markdown",
   "id": "df5a4e06",
   "metadata": {},
   "source": [
    "## Model Evalution"
   ]
  },
  {
   "cell_type": "code",
   "execution_count": 126,
   "id": "ebaedcbb",
   "metadata": {},
   "outputs": [
    {
     "data": {
      "text/plain": [
       "array([ 5608000.        ,  5910299.99999999,  4177400.        ,\n",
       "        3930100.        , 16302500.00000001,  7359100.        ,\n",
       "        5337000.        , 10559899.99999998,  6441500.        ,\n",
       "        3671700.        ,  3503100.        ,  5782800.        ,\n",
       "        4393100.        ,  5321000.        ,  9234500.        ,\n",
       "        2791700.        ,  4325300.        ,  1625100.        ,\n",
       "       15646200.00000001,  9252500.        ])"
      ]
     },
     "execution_count": 126,
     "metadata": {},
     "output_type": "execute_result"
    }
   ],
   "source": [
    "y_pred = linear_reg.predict(x_test)\n",
    "y_pred[0:20]"
   ]
  },
  {
   "cell_type": "code",
   "execution_count": 127,
   "id": "51e8ad57",
   "metadata": {},
   "outputs": [
    {
     "data": {
      "text/plain": [
       "array([ 5608000,  5910300,  4177400,  3930100, 16302500,  7359100,\n",
       "        5337000, 10559900,  6441500,  3671700,  3503100,  5782800,\n",
       "        4393100,  5321000,  9234500,  2791700,  4325300,  1625100,\n",
       "       15646200,  9252500], dtype=int64)"
      ]
     },
     "execution_count": 127,
     "metadata": {},
     "output_type": "execute_result"
    }
   ],
   "source": [
    "y_test[0:20] #actualy_"
   ]
  },
  {
   "cell_type": "markdown",
   "id": "095c371f",
   "metadata": {},
   "source": [
    "## Evalution On Testing Data"
   ]
  },
  {
   "cell_type": "code",
   "execution_count": 132,
   "id": "e2066e2e",
   "metadata": {},
   "outputs": [
    {
     "name": "stdout",
     "output_type": "stream",
     "text": [
      "mean squared error =  2.7716662418844163e-17\n",
      "------------------------------------------------------------------------------------------------------------------------\n",
      "root mean square error =  5.264661662333503e-09\n",
      "------------------------------------------------------------------------------------------------------------------------\n",
      "mean absolute error = 3.491307027859263e-09\n",
      "------------------------------------------------------------------------------------------------------------------------\n",
      "R Squared Value  = 1.0\n"
     ]
    }
   ],
   "source": [
    "mse = mean_squared_error(y_test, y_pred)\n",
    "print(\"mean squared error = \",mse)\n",
    "print(\"--\"*60)\n",
    "\n",
    "rmse= np.sqrt(mse)\n",
    "print(\"root mean square error = \",rmse)\n",
    "print(\"--\"*60)\n",
    "\n",
    "mae= mean_absolute_error(y_test,y_pred)\n",
    "print(\"mean absolute error =\", mae)\n",
    "print(\"--\"*60)\n",
    "\n",
    "r_squared = r2_score(y_test, y_pred)\n",
    "print(\"R Squared Value  =\", r_squared)\n"
   ]
  },
  {
   "cell_type": "markdown",
   "id": "35d5a748",
   "metadata": {},
   "source": [
    "## Evalution On Training  Data"
   ]
  },
  {
   "cell_type": "code",
   "execution_count": 133,
   "id": "4bd5a2e3",
   "metadata": {},
   "outputs": [
    {
     "data": {
      "text/plain": [
       "array([9925200., 7541400., 4772900., 5416600., 2534900., 7036100.,\n",
       "       8376600., 3833500., 6821600., 4615500.])"
      ]
     },
     "execution_count": 133,
     "metadata": {},
     "output_type": "execute_result"
    }
   ],
   "source": [
    "y_pred_train= linear_reg.predict(x_train)\n",
    "y_pred_train[0:10]"
   ]
  },
  {
   "cell_type": "code",
   "execution_count": 137,
   "id": "bd3339ae",
   "metadata": {},
   "outputs": [
    {
     "data": {
      "text/plain": [
       "array([9925200, 7541400, 4772900, 5416600, 2534900, 7036100, 8376600,\n",
       "       3833500, 6821600, 4615500], dtype=int64)"
      ]
     },
     "execution_count": 137,
     "metadata": {},
     "output_type": "execute_result"
    }
   ],
   "source": [
    "y_train[0:10]"
   ]
  },
  {
   "cell_type": "code",
   "execution_count": 138,
   "id": "f2fca011",
   "metadata": {},
   "outputs": [
    {
     "name": "stdout",
     "output_type": "stream",
     "text": [
      "mean squared error =  3.086254704572802e-17\n",
      "------------------------------------------------------------------------------------------------------------------------\n",
      "root mean square error =  5.555407009907377e-09\n",
      "------------------------------------------------------------------------------------------------------------------------\n",
      "mean absolute error = 3.390037252705041e-09\n",
      "------------------------------------------------------------------------------------------------------------------------\n",
      "R Squared Value  = 1.0\n"
     ]
    }
   ],
   "source": [
    "mse = mean_squared_error(y_train, y_pred_train)\n",
    "print(\"mean squared error = \",mse)\n",
    "print(\"--\"*60)\n",
    "\n",
    "rmse= np.sqrt(mse)\n",
    "print(\"root mean square error = \",rmse)\n",
    "print(\"--\"*60)\n",
    "\n",
    "mae= mean_absolute_error(y_train,y_pred_train)\n",
    "print(\"mean absolute error =\", mae)\n",
    "print(\"--\"*60)\n",
    "\n",
    "r_squared = r2_score(y_train, y_pred_train)\n",
    "print(\"R Squared Value  =\", r_squared)\n"
   ]
  },
  {
   "cell_type": "code",
   "execution_count": null,
   "id": "065a8862",
   "metadata": {},
   "outputs": [],
   "source": []
  },
  {
   "cell_type": "markdown",
   "id": "03df6570",
   "metadata": {},
   "source": [
    "## Normality of Residual\n",
    "### kde plot"
   ]
  },
  {
   "cell_type": "code",
   "execution_count": 140,
   "id": "f25e2ef9",
   "metadata": {},
   "outputs": [
    {
     "data": {
      "text/plain": [
       "6.164870164827354e-17"
      ]
     },
     "execution_count": 140,
     "metadata": {},
     "output_type": "execute_result"
    }
   ],
   "source": [
    "mse = (((y_train - y_pred_train)**2).sum()) / 404 \n",
    "mse"
   ]
  },
  {
   "cell_type": "code",
   "execution_count": 147,
   "id": "2b50a4ac",
   "metadata": {},
   "outputs": [
    {
     "data": {
      "text/plain": [
       "array([-1.86264515e-09,  0.00000000e+00,  1.86264515e-09,  1.86264515e-09,\n",
       "        9.31322575e-10,  9.31322575e-10, -1.86264515e-09,  1.39698386e-09,\n",
       "        9.31322575e-10,  3.72529030e-09])"
      ]
     },
     "execution_count": 147,
     "metadata": {},
     "output_type": "execute_result"
    }
   ],
   "source": [
    "residual = y_train - y_pred_train\n",
    "residual[0:10]"
   ]
  },
  {
   "cell_type": "code",
   "execution_count": 146,
   "id": "592a6d76",
   "metadata": {},
   "outputs": [
    {
     "data": {
      "text/plain": [
       "<Axes: ylabel='Density'>"
      ]
     },
     "execution_count": 146,
     "metadata": {},
     "output_type": "execute_result"
    },
    {
     "data": {
      "image/png": "[encoded data removed]",
      "text/plain": [
       "<Figure size 640x480 with 1 Axes>"
      ]
     },
     "metadata": {},
     "output_type": "display_data"
    }
   ],
   "source": [
    "sns.kdeplot(residual, fill= True)"
   ]
  },
  {
   "cell_type": "code",
   "execution_count": 148,
   "id": "1d2be4e2",
   "metadata": {},
   "outputs": [
    {
     "data": {
      "text/plain": [
       "<Axes: ylabel='Count'>"
      ]
     },
     "execution_count": 148,
     "metadata": {},
     "output_type": "execute_result"
    },
    {
     "data": {
      "image/png": "[encoded data removed]",
      "text/plain": [
       "<Figure size 640x480 with 1 Axes>"
      ]
     },
     "metadata": {},
     "output_type": "display_data"
    }
   ],
   "source": [
    "sns.histplot(residual,fill = True,kde = True)"
   ]
  },
  {
   "cell_type": "markdown",
   "id": "85bc3be0",
   "metadata": {},
   "source": [
    "## QQ plot"
   ]
  },
  {
   "cell_type": "code",
   "execution_count": 152,
   "id": "9cd65b02",
   "metadata": {},
   "outputs": [
    {
     "data": {
      "image/png": "[encoded data removed]",
      "text/plain": [
       "<Figure size 640x480 with 1 Axes>"
      ]
     },
     "execution_count": 152,
     "metadata": {},
     "output_type": "execute_result"
    },
    {
     "data": {
      "image/png": "[encoded data removed]",
      "text/plain": [
       "<Figure size 640x480 with 1 Axes>"
      ]
     },
     "metadata": {},
     "output_type": "display_data"
    }
   ],
   "source": [
    "sm.qqplot(residual,line = \"45\",fit = True)"
   ]
  },
  {
   "cell_type": "code",
   "execution_count": 153,
   "id": "9540725c",
   "metadata": {},
   "outputs": [
    {
     "data": {
      "text/plain": [
       "<Axes: >"
      ]
     },
     "execution_count": 153,
     "metadata": {},
     "output_type": "execute_result"
    },
    {
     "data": {
      "image/png": "[encoded data removed]",
      "text/plain": [
       "<Figure size 640x480 with 1 Axes>"
      ]
     },
     "metadata": {},
     "output_type": "display_data"
    }
   ],
   "source": [
    "sns.scatterplot(x = y_train,y = residual)"
   ]
  },
  {
   "cell_type": "code",
   "execution_count": null,
   "id": "0d24affa",
   "metadata": {},
   "outputs": [],
   "source": []
  }
 ],
 "metadata": {
  "kernelspec": {
   "display_name": "Python 3 (ipykernel)",
   "language": "python",
   "name": "python3"
  },
  "language_info": {
   "codemirror_mode": {
    "name": "ipython",
    "version": 3
   },
   "file_extension": ".py",
   "mimetype": "text/x-python",
   "name": "python",
   "nbconvert_exporter": "python",
   "pygments_lexer": "ipython3",
   "version": "3.10.9"
  }
 },
 "nbformat": 4,
 "nbformat_minor": 5
}
